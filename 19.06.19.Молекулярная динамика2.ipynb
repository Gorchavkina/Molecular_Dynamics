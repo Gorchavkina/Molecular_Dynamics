{
 "cells": [
  {
   "cell_type": "markdown",
   "metadata": {},
   "source": [
    "16 дисков радиусом $\\sigma$ = 1 находятся в квадратном\n",
    "коробе размера Lx = Ly = 10 с зеркальными граничными условиями (диски отталкиваются от стенок, как бильярдные шары). Задайте случайное расположение частиц так,\n",
    "чтобы они не накладывались друг на друга (или задайте гранецентрированное положение частиц). Задайте каждой частице скорость так, чтобы модуль скорости был равен 1,\n",
    "а направление было случайное. Напишите функцию расчета минимального времени до\n",
    "столкновения τcoll. Проведите моделирование в течение $10^6$ шагов (столкновений).\n",
    "## Постройте график распределения расстояний между частицами"
   ]
  },
  {
   "cell_type": "code",
   "execution_count": 1,
   "metadata": {},
   "outputs": [],
   "source": [
    "import random, math\n",
    "import numpy as np\n",
    "import time\n",
    "import matplotlib.pyplot as plt\n",
    "%matplotlib inline"
   ]
  },
  {
   "cell_type": "markdown",
   "metadata": {},
   "source": [
    "### Инициализируем начальние координаты точек. \n",
    "Условие неналожения: $|\\Delta \\textbf{r}_{ij}|>\\sigma$."
   ]
  },
  {
   "cell_type": "code",
   "execution_count": 2,
   "metadata": {},
   "outputs": [],
   "source": [
    "N = 16 \n",
    "sigma = 0.2\n",
    "L = 10\n",
    "condition = False\n",
    "while condition == False:\n",
    "    coor = [(random.uniform(sigma, L - sigma), random.uniform(sigma, L - sigma))]\n",
    "    for k in range(1, N):\n",
    "        a = (random.uniform(sigma, L - sigma), random.uniform(sigma, L - sigma))\n",
    "        min_dist = min(math.sqrt((a[0] - b[0]) ** 2 + (a[1] - b[1]) ** 2) for b in coor) \n",
    "        if min_dist < 2.0 * sigma: \n",
    "            condition = False\n",
    "            break\n",
    "        else:\n",
    "            coor.append(a)\n",
    "            condition = True\n",
    "#print (coor)"
   ]
  },
  {
   "cell_type": "markdown",
   "metadata": {},
   "source": [
    "### Инициализация начальных скоростей\n",
    "Случайная величина - угол между вектором скоростей и осью OX"
   ]
  },
  {
   "cell_type": "code",
   "execution_count": 3,
   "metadata": {},
   "outputs": [],
   "source": [
    "vel = []\n",
    "for k in range(N):\n",
    "    phi = math.radians(random.uniform(0, 360))\n",
    "    v = (math.cos(phi), math.sin(phi))\n",
    "    vel.append(v)\n",
    "#vel"
   ]
  },
  {
   "cell_type": "code",
   "execution_count": 4,
   "metadata": {},
   "outputs": [],
   "source": [
    "def curr_state(coor, vel):     # возращает текущее состояние частиц (x, y, vx, vy)\n",
    "    v_ = np.asarray(vel)\n",
    "    o_ = np.asarray(coor)\n",
    "    state = np.hstack((o_,v_))\n",
    "    return state\n",
    "\n",
    "initial_state = curr_state(coor, vel)\n",
    "#initial_state"
   ]
  },
  {
   "cell_type": "markdown",
   "metadata": {},
   "source": [
    "### Время до столкновенея"
   ]
  },
  {
   "cell_type": "code",
   "execution_count": 5,
   "metadata": {},
   "outputs": [
    {
     "data": {
      "text/plain": [
       "[9.75013319242747, 20.130915789656555, inf, inf]"
      ]
     },
     "execution_count": 5,
     "metadata": {},
     "output_type": "execute_result"
    }
   ],
   "source": [
    "def wall_time(coor, vel):\n",
    "    if vel[0] > 0.0:\n",
    "        del_tr = (L - sigma - coor[0]) / vel[0]\n",
    "        del_tl = float('inf')\n",
    "    elif vel[0] < 0.0:\n",
    "        del_tl = (coor[0] - sigma) / abs(vel[0])\n",
    "        del_tr = float('inf')\n",
    "    if vel[1] > 0.0:\n",
    "        del_tt = (L - sigma - coor[1]) / vel[1]\n",
    "        del_td = float('inf')\n",
    "    elif vel[1] < 0.0:\n",
    "        del_td = (coor[1] - sigma) / abs(vel[1])\n",
    "        del_tt = float('inf')\n",
    "    return [del_tt, del_tr, del_td, del_tl]\n",
    "\n",
    "\n",
    "wall_time(coor[0], vel[0])"
   ]
  },
  {
   "cell_type": "code",
   "execution_count": 9,
   "metadata": {},
   "outputs": [
    {
     "data": {
      "text/plain": [
       "(inf, 4.93828774694499)"
      ]
     },
     "execution_count": 9,
     "metadata": {},
     "output_type": "execute_result"
    }
   ],
   "source": [
    "def pair_time(pos_a, vel_a, pos_b, vel_b):\n",
    "    del_x = [pos_b[0] - pos_a[0], pos_b[1] - pos_a[1]]\n",
    "    del_x_sq = del_x[0] ** 2 + del_x[1] ** 2\n",
    "    del_v = [vel_b[0] - vel_a[0], vel_b[1] - vel_a[1]]\n",
    "    del_v_sq = del_v[0] ** 2 + del_v[1] ** 2\n",
    "    scal = del_v[0] * del_x[0] + del_v[1] * del_x[1]\n",
    "    d = scal ** 2 - del_v_sq * (del_x_sq - 4.0 * sigma ** 2)\n",
    "    x = math.sqrt(del_x_sq)\n",
    "    if d > 0.0 and scal < 0.0:\n",
    "        del_t = - (scal + math.sqrt(d)) / del_v_sq\n",
    "    else:\n",
    "        del_t = float('inf')\n",
    "    return del_t, x\n",
    "pair_time(coor[0],vel[0], coor[1], vel[1])"
   ]
  },
  {
   "cell_type": "markdown",
   "metadata": {},
   "source": [
    "### Кофигурации пар без повторения"
   ]
  },
  {
   "cell_type": "code",
   "execution_count": 10,
   "metadata": {},
   "outputs": [
    {
     "data": {
      "text/plain": [
       "120"
      ]
     },
     "execution_count": 10,
     "metadata": {},
     "output_type": "execute_result"
    }
   ],
   "source": [
    "pairs = []\n",
    "for i in range(N-1):\n",
    "    for j in range(i+1, N):\n",
    "        pairs.append((i, j))\n",
    "len(pairs)"
   ]
  },
  {
   "cell_type": "markdown",
   "metadata": {},
   "source": [
    "### Подсчет минимального времени до столкновений"
   ]
  },
  {
   "cell_type": "code",
   "execution_count": 12,
   "metadata": {},
   "outputs": [],
   "source": [
    "def next_coll(state):\n",
    "    coor, vel = np.split(state, 2, axis=1)\n",
    "    t_walls = []\n",
    "    t_pairs = np.array(float(\"inf\"))*np.ones((N,N))\n",
    "    x = []\n",
    "    for i in range(N):\n",
    "        t_walls.append(wall_time(coor[i], vel[i]))\n",
    "    for i, j in pairs:\n",
    "        t_pairs[i][j], dx = pair_time(coor[i], vel[i], coor[j], vel[j])\n",
    "        x.append(dx)\n",
    "        t_pairs[j][i] = t_pairs[i][j]\n",
    "    t_coll = np.hstack((t_pairs, t_walls))\n",
    "    t_min = t_coll.min()\n",
    "    i, j = np.where(t_coll==t_min)\n",
    "    i = i[0]\n",
    "    j = j[0]\n",
    "    return i, j, t_min , x\n",
    "#next_coll(initial_state)\n"
   ]
  },
  {
   "cell_type": "code",
   "execution_count": 13,
   "metadata": {},
   "outputs": [],
   "source": [
    "def next_state(i, j, t_min, curr_state): # обновляет текущее состояние частиц (x, y, vx, vy)\n",
    "    o, v = np.split(curr_state, 2, axis=1)\n",
    "    o_next = o+v*t_min\n",
    "    \n",
    "    w = 0\n",
    "    #change direction. New v\n",
    "    if j >= N:\n",
    "        #v[i][0] = -v[i][0] # X\n",
    "        #v[i][1] = -v[i][1] # Y\n",
    "        w = 1\n",
    "        \n",
    "        if (j == N) or (j == (N+2)):  # Top or Bottom\n",
    "            v[i][1] = -v[i][1] # Y\n",
    "        else:\n",
    "            if (j == (N+1)) or (j == (N+3)): # Right or Left\n",
    "                v[i][0] = -v[i][0] # X\n",
    "    else:\n",
    "        \n",
    "        oxi, oyi = o_next[i]\n",
    "        oxj, oyj = o_next[j]\n",
    "        vxi, vyi = v[i]\n",
    "        vxj, vyj = v[j] \n",
    "        dvx = vxj-vxi\n",
    "        dvy = vyj-vyi\n",
    "        dox = oxj-oxi\n",
    "        doy = oyj-oyi\n",
    "        abs_ = (dox**2+doy**2)**0.5\n",
    "        #abs_v = (dvx**2+dvy**2)**0.5\n",
    "        dox = dox/abs_\n",
    "        doy = doy/abs_\n",
    "        dvdo = dvx*dox + dvy*doy\n",
    "        J = dvdo\n",
    "        Jx = J*dox\n",
    "        Jy = J*doy\n",
    "        \n",
    "        v[i][0] = (vxi+Jx) #change xi\n",
    "        v[i][1] = (vyi+Jy) #change yi\n",
    "        v[j][0] = (vxj-Jx) #change xj\n",
    "        v[j][1] = (vyj-Jy) #change yj\n",
    "        \n",
    "    \n",
    "    \n",
    "    next_state = np.hstack((o_next,v))\n",
    "    return next_state, w\n",
    "#next_state(1, 2, 0.16, initial_state)"
   ]
  },
  {
   "cell_type": "code",
   "execution_count": 14,
   "metadata": {},
   "outputs": [
    {
     "name": "stdout",
     "output_type": "stream",
     "text": [
      "Wall_colls 60403 \n",
      "Number of Collisions: 100000 \n",
      "Collision time: 30569.7687823126 \n",
      "Program runtime: 695.4426362514496 s\n",
      "Current state:\n",
      " [[ 5.0753326   9.22608414  0.41145367  0.16987034]\n",
      " [ 9.73146406  0.56037927  0.46661978 -0.75896   ]\n",
      " [ 2.19896053  8.76048085 -0.22485222 -0.14455879]\n",
      " [ 4.55820895  8.72711483  0.32985797  0.16449959]\n",
      " [ 5.35913102  7.86672346  2.06257306 -0.61376285]\n",
      " [ 2.01515035  7.74389084 -0.02574029  0.06067379]\n",
      " [ 1.0556151   0.2        -0.23068081  0.57098313]\n",
      " [ 7.59204672  6.73743074 -0.85519731 -0.52281514]\n",
      " [ 0.48061188  6.37159519  0.76395336  0.91438028]\n",
      " [ 5.88273804  2.73275628 -0.27338097 -0.25444874]\n",
      " [ 4.22002169  4.78574427  0.40863311 -1.20490636]\n",
      " [ 6.95297431  6.65795092 -1.36332025  1.47614348]\n",
      " [ 8.51660599  2.99397547 -0.23974513 -0.30706698]\n",
      " [ 4.10979487  7.00122248  0.77541441  0.23004646]\n",
      " [ 6.34945284  8.91307121 -0.46130861  0.70087962]\n",
      " [ 4.50670165  8.3283637   0.07691647 -0.22372653]] \n",
      "\n"
     ]
    }
   ],
   "source": [
    "st = time.time()\n",
    "\n",
    "c = 0     # кол-во столкновений\n",
    "t_coll = [] # время до столкновения\n",
    "abs_v = [] # модули скорости\n",
    "del_ = [] # проекции скорости на У\n",
    "w = 0\n",
    "\n",
    "state = initial_state\n",
    "while c < 100000:\n",
    "    i, j, t, x = next_coll(state)\n",
    "    state, w_ = next_state(i,j,t,state)\n",
    "    o, vv = np.split(state, 2, axis=1)  \n",
    "    t_coll += [t]\n",
    "    t_ = sum(t_coll)  # общее время эксперимента\n",
    "    c += 1\n",
    "    w += w_\n",
    "    for i in range(len(x)):\n",
    "        del_ += [x[i]]\n",
    "    \n",
    "end_ = time.time() - st\n",
    "print('Wall_colls', w,\n",
    "      '\\nNumber of Collisions:',c, \n",
    "      '\\nCollision time:',t_,\n",
    "      '\\nProgram runtime:',end_, \n",
    "      's\\nCurrent state:\\n',state,'\\n')"
   ]
  },
  {
   "cell_type": "code",
   "execution_count": 15,
   "metadata": {},
   "outputs": [
    {
     "data": {
      "image/png": "[encoded data removed]",
      "text/plain": [
       "<Figure size 432x288 with 1 Axes>"
      ]
     },
     "metadata": {
      "needs_background": "light"
     },
     "output_type": "display_data"
    }
   ],
   "source": [
    "plt.hist(del_, bins=50)\n",
    "plt.xlabel('R')\n",
    "plt.show()"
   ]
  },
  {
   "cell_type": "code",
   "execution_count": null,
   "metadata": {},
   "outputs": [],
   "source": []
  }
 ],
 "metadata": {
  "kernelspec": {
   "display_name": "Python 3",
   "language": "python",
   "name": "python3"
  },
  "language_info": {
   "codemirror_mode": {
    "name": "ipython",
    "version": 3
   },
   "file_extension": ".py",
   "mimetype": "text/x-python",
   "name": "python",
   "nbconvert_exporter": "python",
   "pygments_lexer": "ipython3",
   "version": "3.7.0"
  }
 },
 "nbformat": 4,
 "nbformat_minor": 2
}
