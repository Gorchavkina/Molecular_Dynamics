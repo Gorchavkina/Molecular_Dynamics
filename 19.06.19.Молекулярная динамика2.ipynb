{
 "cells": [
  {
   "cell_type": "markdown",
   "metadata": {},
   "source": [
    "16 дисков радиусом $\\sigma$ = 1 находятся в квадратном\n",
    "коробе размера Lx = Ly = 10 с зеркальными граничными условиями (диски отталкиваются от стенок, как бильярдные шары). Задайте случайное расположение частиц так,\n",
    "чтобы они не накладывались друг на друга (или задайте гранецентрированное положение частиц). Задайте каждой частице скорость так, чтобы модуль скорости был равен 1,\n",
    "а направление было случайное. Напишите функцию расчета минимального времени до\n",
    "столкновения τcoll. Проведите моделирование в течение $10^6$ шагов (столкновений)."
   ]
  },
  {
   "cell_type": "code",
   "execution_count": 1,
   "metadata": {},
   "outputs": [],
   "source": [
    "import random, math"
   ]
  },
  {
   "cell_type": "markdown",
   "metadata": {},
   "source": [
    "### Инициализируем начальние координаты точек. \n",
    "Условие неналожения: $|\\Delta \\textbf{r}_{ij}|>\\sigma$."
   ]
  },
  {
   "cell_type": "code",
   "execution_count": 23,
   "metadata": {},
   "outputs": [
    {
     "name": "stdout",
     "output_type": "stream",
     "text": [
      "[(1.3577884883155342, 2.7203085724347114), (8.811817333477359, 5.353356356602957), (7.042330644083958, 0.6561969279927309), (7.490323476612896, 3.2904559669265336), (6.041950762981656, 5.155636157158592), (4.510100848607881, 3.4530403665240823), (0.958730425544273, 8.647607300119372), (2.9886836117656297, 1.8118746643533254), (2.8515900131021663, 9.12312017327556), (8.800735107440541, 7.406873408978021), (2.050088004359151, 5.618554380474718), (2.724740929521491, 2.397359118746988), (5.401547086666862, 5.110023911157296), (5.530391767870236, 1.1662183631510905), (4.689208249647905, 6.2398657324976), (4.340304094478759, 8.374879942321295)]\n"
     ]
    },
    {
     "data": {
      "text/plain": [
       "(8.811817333477359, 5.353356356602957)"
      ]
     },
     "execution_count": 23,
     "metadata": {},
     "output_type": "execute_result"
    }
   ],
   "source": [
    "N = 16 \n",
    "sigma = 0.2\n",
    "L = 10\n",
    "condition = False\n",
    "while condition == False:\n",
    "    coor = [(random.uniform(sigma, L - sigma), random.uniform(sigma, L - sigma))]\n",
    "    for k in range(1, N):\n",
    "        a = (random.uniform(sigma, L - sigma), random.uniform(sigma, L - sigma))\n",
    "        min_dist = min(math.sqrt((a[0] - b[0]) ** 2 + (a[1] - b[1]) ** 2) for b in coor) \n",
    "        if min_dist < 2.0 * sigma: \n",
    "            condition = False\n",
    "            break\n",
    "        else:\n",
    "            coor.append(a)\n",
    "            condition = True\n",
    "print (coor)"
   ]
  },
  {
   "cell_type": "markdown",
   "metadata": {},
   "source": [
    "### Инициализация начальных скоростей\n",
    "Случайная величина - угол между вектором скоростей и осью OX"
   ]
  },
  {
   "cell_type": "code",
   "execution_count": 19,
   "metadata": {},
   "outputs": [],
   "source": [
    "vel = []\n",
    "for k in range(N):\n",
    "    phi = math.radians(random.uniform(0, 360))\n",
    "    v = (math.cos(phi), math.sin(phi))\n",
    "    vel.append(v)\n",
    "#vel"
   ]
  },
  {
   "cell_type": "markdown",
   "metadata": {},
   "source": [
    "### Время до столкновенея"
   ]
  },
  {
   "cell_type": "code",
   "execution_count": 32,
   "metadata": {},
   "outputs": [],
   "source": [
    "def wall_time(pos_a, vel_a):\n",
    "    if vel_a > 0.0:\n",
    "        del_t = (L - sigma - pos_a) / vel_a\n",
    "    elif vel_a < 0.0:\n",
    "        del_t = (pos_a - sigma) / abs(vel_a)\n",
    "    else:\n",
    "        del_t = float('inf')\n",
    "    return del_t\n",
    "def pair_time(pos_a, vel_a, pos_b, vel_b):\n",
    "    del_x = [pos_b[0] - pos_a[0], pos_b[1] - pos_a[1]]\n",
    "    del_x_sq = del_x[0] ** 2 + del_x[1] ** 2\n",
    "    del_v = [vel_b[0] - vel_a[0], vel_b[1] - vel_a[1]]\n",
    "    del_v_sq = del_v[0] ** 2 + del_v[1] ** 2\n",
    "    scal = del_v[0] * del_x[0] + del_v[1] * del_x[1]\n",
    "    d = scal ** 2 - del_v_sq * (del_x_sq - 4.0 * sigma ** 2)\n",
    "    if d > 0.0 and scal < 0.0:\n",
    "        del_t = - (scal + math.sqrt(d)) / del_v_sq\n",
    "    else:\n",
    "        del_t = float('inf')\n",
    "    return del_t\n",
    "#wall_time(coor[0][0], vel[0][0])"
   ]
  },
  {
   "cell_type": "markdown",
   "metadata": {},
   "source": [
    "### Кофигурации пар без повторения"
   ]
  },
  {
   "cell_type": "code",
   "execution_count": 33,
   "metadata": {},
   "outputs": [
    {
     "data": {
      "text/plain": [
       "120"
      ]
     },
     "execution_count": 33,
     "metadata": {},
     "output_type": "execute_result"
    }
   ],
   "source": [
    "pairs = []\n",
    "for i in range(N-1):\n",
    "    for j in range(i+1, N):\n",
    "        pairs.append((i, j))\n",
    "len(pairs)"
   ]
  },
  {
   "cell_type": "code",
   "execution_count": 34,
   "metadata": {},
   "outputs": [],
   "source": [
    "wall_times_x = [wall_time(coor[i][0], vel[i][0]) for i in range(N)]\n",
    "wall_times_y = [wall_time(coor[i][1], vel[i][1]) for i in range(N)]\n",
    "pair_times = [pair_time(coor[i], vel[i], coor[j], vel[j]) for i,j in pairs]"
   ]
  },
  {
   "cell_type": "code",
   "execution_count": 36,
   "metadata": {},
   "outputs": [
    {
     "data": {
      "text/plain": [
       "1.001980033715594"
      ]
     },
     "execution_count": 36,
     "metadata": {},
     "output_type": "execute_result"
    }
   ],
   "source": [
    "min(min(wall_times_x), min(wall_times_y), min(pair_times))"
   ]
  },
  {
   "cell_type": "code",
   "execution_count": null,
   "metadata": {},
   "outputs": [],
   "source": []
  }
 ],
 "metadata": {
  "kernelspec": {
   "display_name": "Python 3",
   "language": "python",
   "name": "python3"
  },
  "language_info": {
   "codemirror_mode": {
    "name": "ipython",
    "version": 3
   },
   "file_extension": ".py",
   "mimetype": "text/x-python",
   "name": "python",
   "nbconvert_exporter": "python",
   "pygments_lexer": "ipython3",
   "version": "3.7.0"
  }
 },
 "nbformat": 4,
 "nbformat_minor": 2
}
