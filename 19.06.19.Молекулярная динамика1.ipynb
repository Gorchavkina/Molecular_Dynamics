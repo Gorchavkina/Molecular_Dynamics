{
 "cells": [
  {
   "cell_type": "markdown",
   "metadata": {},
   "source": [
    "Дано 2 диска радиусом σ. Задайте случайное положение этих дисков так, чтобы они касались друг друга $|r_{ij}| = 2σ$, а также задайте случайные скорости с выполнением условия\n",
    "$(\\Delta \\textbf{v}_{ij}\\cdot\\Delta \\textbf{r}_{ij})< 0$. Посчитайте изменение скоростей при столкновении. Проверьте, что полная\n",
    "энергия системы сохраняется (что энергия до взаимодействия = энергии после взаимодействия). Запустите эту тестовую программу хотя бы $10^7$ раз.\n"
   ]
  },
  {
   "cell_type": "code",
   "execution_count": 3,
   "metadata": {},
   "outputs": [],
   "source": [
    "import random, math"
   ]
  },
  {
   "cell_type": "markdown",
   "metadata": {},
   "source": [
    "### Инициализируем начальние координаты точек. \n",
    "Условие: $|\\Delta \\textbf{r}_{ij}|=2\\sigma$."
   ]
  },
  {
   "cell_type": "code",
   "execution_count": 12,
   "metadata": {},
   "outputs": [
    {
     "data": {
      "text/plain": [
       "[(0.2884024620644109, 0.6963356317538034),\n",
       " (0.6722665259805946, 0.808800650465188)]"
      ]
     },
     "execution_count": 12,
     "metadata": {},
     "output_type": "execute_result"
    }
   ],
   "source": [
    "N = 2 \n",
    "sigma = 0.2\n",
    "L = 1\n",
    "coor = [(random.uniform(sigma, L - sigma), random.uniform(sigma, L - sigma))]\n",
    "phi = math.radians(random.uniform(0, 360))\n",
    "a = (2.0*sigma*math.cos(phi), 2.0*sigma*math.sin(phi))\n",
    "coor.append((a[0]+coor[0][0], a[1]+coor[0][1]))\n",
    "coor"
   ]
  },
  {
   "cell_type": "code",
   "execution_count": 14,
   "metadata": {},
   "outputs": [
    {
     "name": "stdout",
     "output_type": "stream",
     "text": [
      "0.4 0.4\n"
     ]
    }
   ],
   "source": [
    "#проверка\n",
    "print(2.0*sigma, math.sqrt((coor[0][0]-coor[1][0])**2+(coor[0][1]-coor[1][1])**2))\n"
   ]
  },
  {
   "cell_type": "markdown",
   "metadata": {},
   "source": [
    "### Скорости\n",
    "$(\\Delta \\textbf{v}_{ij}\\cdot\\Delta \\textbf{r}_{ij})< 0$"
   ]
  },
  {
   "cell_type": "code",
   "execution_count": 40,
   "metadata": {},
   "outputs": [
    {
     "name": "stdout",
     "output_type": "stream",
     "text": [
      "[(0.159240693641449, -0.36367023524886566), (-0.27644410560687604, 0.21773274983454272)]\n"
     ]
    }
   ],
   "source": [
    "condition = False\n",
    "while condition == False:\n",
    "    vel = [(random.uniform(-1, 1), random.uniform(-1, 1))]\n",
    "    for k in range(1, N):\n",
    "        v = (random.uniform(-1, 1), random.uniform(-1, 1))\n",
    "        del_r = (coor[k-1][0] - coor[k][0], coor[k-1][1] - coor[k][1])\n",
    "        del_v = (v[0] - vel[0][0], v[1] - vel[0][1])\n",
    "        scal = (del_r[0]*del_v[0] + del_r[1]*del_v[1])\n",
    "        d = scal**2 + (del_v[0]**2 + del_v[1]**2)*(del_r[0]**2 + del_r[1]**2 - 4*sigma**2) \n",
    "        if scal >= 0 and d < 0:\n",
    "            condition = False\n",
    "            break\n",
    "        else:\n",
    "            vel.append(v)\n",
    "            condition = True\n",
    "            \n",
    "print(vel)"
   ]
  },
  {
   "cell_type": "code",
   "execution_count": 41,
   "metadata": {},
   "outputs": [
    {
     "data": {
      "text/plain": [
       "-0.2546406000742708"
      ]
     },
     "execution_count": 41,
     "metadata": {},
     "output_type": "execute_result"
    }
   ],
   "source": [
    "del_x = [coor[1][0] - coor[0][0], coor[1][1] - coor[0][1]]\n",
    "abs_x = math.sqrt(del_x[0] ** 2 + del_x[1] ** 2)\n",
    "e_perp = [c / abs_x for c in del_x]\n",
    "scal = del_v[0] * e_perp[0] + del_v[1] * e_perp[1]\n",
    "e_perp\n",
    "scal"
   ]
  },
  {
   "cell_type": "code",
   "execution_count": 42,
   "metadata": {},
   "outputs": [
    {
     "data": {
      "text/plain": [
       "[[-0.08512774531496414, -0.4352656348789433],\n",
       " [-0.03207566665046291, 0.2893281494646204]]"
      ]
     },
     "execution_count": 42,
     "metadata": {},
     "output_type": "execute_result"
    }
   ],
   "source": [
    "vel1 = [list(vel[m]) for m in range(2)]\n",
    "for k in range(2): \n",
    "    vel1[0][k] += e_perp[k] * scal \n",
    "    vel1[1][k] -= e_perp[k] * scal \n",
    "vel1"
   ]
  },
  {
   "cell_type": "code",
   "execution_count": 43,
   "metadata": {},
   "outputs": [
    {
     "name": "stdout",
     "output_type": "stream",
     "text": [
      "0.2814425323926723\n",
      "0.28144253239267236\n"
     ]
    }
   ],
   "source": [
    "print(\"\"vel[0][0]**2 + vel[0][1]**2 + vel[1][0]**2 + vel[1][1]**2)\n",
    "print(vel1[0][0]**2 + vel1[0][1]**2 + vel1[1][0]**2 + vel1[1][1]**2)"
   ]
  },
  {
   "cell_type": "code",
   "execution_count": null,
   "metadata": {},
   "outputs": [],
   "source": [
    " "
   ]
  }
 ],
 "metadata": {
  "kernelspec": {
   "display_name": "Python 3",
   "language": "python",
   "name": "python3"
  },
  "language_info": {
   "codemirror_mode": {
    "name": "ipython",
    "version": 3
   },
   "file_extension": ".py",
   "mimetype": "text/x-python",
   "name": "python",
   "nbconvert_exporter": "python",
   "pygments_lexer": "ipython3",
   "version": "3.7.0"
  }
 },
 "nbformat": 4,
 "nbformat_minor": 2
}
