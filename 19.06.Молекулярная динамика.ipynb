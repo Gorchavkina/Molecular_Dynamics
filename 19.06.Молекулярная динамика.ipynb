{
 "cells": [
  {
   "cell_type": "markdown",
   "metadata": {},
   "source": [
    "Дано 2 диска радиусом σ. Задайте случайное положение этих дисков так, чтобы они не\n",
    "перекрывались: $|r_{ij} |$ > 2σ, а также задайте случайные скорости с выполнением условия\n",
    "($r_{ij} \\cdot v_{ij}$ ) < 0. Найдите время до столкновения τcoll и смоделируйте их продвижение за это\n",
    "время. Если время τcoll конечное, проверьте, что они действительно соприкоснутся. Если\n",
    "τcoll = ∞, проверьте условие, ($r_{ij} \\cdot v_{ij}$ ) = 0. Запустите эту тестовую программу хотя бы $10^7$\n",
    "раз"
   ]
  },
  {
   "cell_type": "code",
   "execution_count": 45,
   "metadata": {},
   "outputs": [],
   "source": [
    "import random, math"
   ]
  },
  {
   "cell_type": "markdown",
   "metadata": {},
   "source": [
    "### Инициализируем начальние координаты точек. \n",
    "Условие неналожения: $|\\Delta \\textbf{r}_{ij}|>\\sigma$."
   ]
  },
  {
   "cell_type": "code",
   "execution_count": 8,
   "metadata": {},
   "outputs": [
    {
     "name": "stdout",
     "output_type": "stream",
     "text": [
      "[(0.5034021569695188, 0.6889162048645721), (0.37485788522788976, 0.213483180022337)]\n"
     ]
    }
   ],
   "source": [
    "N = 2 \n",
    "sigma = 0.2\n",
    "L = 1\n",
    "condition = False\n",
    "while condition == False:\n",
    "    coor = [(random.uniform(sigma, L - sigma), random.uniform(sigma, L - sigma))]\n",
    "    for k in range(1, N):\n",
    "        a = (random.uniform(sigma, L - sigma), random.uniform(sigma, L - sigma))\n",
    "        min_dist = min(math.sqrt((a[0] - b[0]) ** 2 + (a[1] - b[1]) ** 2) for b in coor) \n",
    "        if min_dist < 2.0 * sigma: \n",
    "            condition = False\n",
    "            break\n",
    "        else:\n",
    "            coor.append(a)\n",
    "            condition = True\n",
    "print (coor)"
   ]
  },
  {
   "cell_type": "markdown",
   "metadata": {},
   "source": [
    "### Задаем начальные скорости\n",
    "If either Δv ⋅ Δr ≥ 0 or d < 0, then the quadratic equation has no solution for Δt > 0; otherwise we are guaranteed that Δt ≥ 0.\n",
    "Where $d = (\\Delta \\textbf{v}_{ij}\\cdot\\Delta \\textbf{r}_{ij})^{2}-\\Delta \\textbf{v}_{ij}^{2}(\\Delta \\textbf{r}_{ij}^{2}-\\sigma^{2})$\n",
    "\n"
   ]
  },
  {
   "cell_type": "code",
   "execution_count": 29,
   "metadata": {},
   "outputs": [
    {
     "name": "stdout",
     "output_type": "stream",
     "text": [
      "[(-0.7299636502198317, -0.2542842192389485), (0.6293921379986323, 0.4490135327312781)]\n",
      "[0.5091083774182594]\n"
     ]
    }
   ],
   "source": [
    "scals = []\n",
    "condition = False\n",
    "while condition == False:\n",
    "    vel = [(random.uniform(-1, 1), random.uniform(-1, 1))]\n",
    "    for k in range(1, N):\n",
    "        v = (random.uniform(-1, 1), random.uniform(-1, 1))\n",
    "        del_r = (coor[k-1][0] - coor[k][0], coor[k-1][1] - coor[k][1])\n",
    "        del_v = (v[0] - vel[0][0], v[1] - vel[0][1])\n",
    "        scal = (del_r[0]*del_v[0] + del_r[1]*del_v[1])\n",
    "        d = scal**2 + (del_v[0]**2 + del_v[1]**2)*(del_r[0]**2 + del_r[1]**2 - 4*sigma**2) \n",
    "        if scal >= 0 and d < 0:\n",
    "            condition = False\n",
    "            break\n",
    "        else:\n",
    "            vel.append(v)\n",
    "            scals.append(scal)\n",
    "            condition = True\n",
    "            \n",
    "print(vel)\n",
    "print(scals)      "
   ]
  },
  {
   "cell_type": "markdown",
   "metadata": {},
   "source": [
    "### Время столкновения со стенками\n",
    "Столкновение за момент времени $\\Delta t$ происходит, если в этот момент одна из проекций координаты равна $\\sigma$ (соответствующая проекция скороти отрицательна) или $L-\\sigma$ (соответствющая проекция скорости положительна)."
   ]
  },
  {
   "cell_type": "code",
   "execution_count": 30,
   "metadata": {},
   "outputs": [
    {
     "data": {
      "text/plain": [
       "0.4156400895827456"
      ]
     },
     "execution_count": 30,
     "metadata": {},
     "output_type": "execute_result"
    }
   ],
   "source": [
    "def wall_time(pos_a, vel_a, sigma):\n",
    "    if vel_a > 0.0:\n",
    "        del_t = (L - sigma - pos_a) / vel_a\n",
    "    elif vel_a < 0.0:\n",
    "        del_t = (pos_a - sigma) / abs(vel_a)\n",
    "    else:\n",
    "        del_t = float('inf')\n",
    "    return del_t\n",
    "\n",
    "wall_time(coor[0][0], vel[0][0], sigma)"
   ]
  },
  {
   "cell_type": "markdown",
   "metadata": {},
   "source": [
    "### Время столкновения между частицами\n",
    "Столкновение частиц за момент времени $\\Delta t$ происходит, если в этот момент расстояние между ними равняется их удвоенному радиусу. Т.е. должно выполняться уравнение $4 \\sigma^{2} = \\Delta \\textbf{r'}_{ij}^{2}$, где $\\Delta \\textbf{r'}_{ij}$ - расстояние между парой частиц. Ранее мы уже генерировали скорости так, чтобы обеспечить столкновение частиц."
   ]
  },
  {
   "cell_type": "code",
   "execution_count": 35,
   "metadata": {},
   "outputs": [],
   "source": [
    "def pair_time(pos_a, vel_a, pos_b, vel_b, sigma):\n",
    "    del_x = [pos_b[0] - pos_a[0], pos_b[1] - pos_a[1]]\n",
    "    del_x_sq = del_x[0] ** 2 + del_x[1] ** 2\n",
    "    del_v = [vel_b[0] - vel_a[0], vel_b[1] - vel_a[1]]\n",
    "    del_v_sq = del_v[0] ** 2 + del_v[1] ** 2\n",
    "    scal = del_v[0] * del_x[0] + del_v[1] * del_x[1]\n",
    "    d = scal ** 2 - del_v_sq * (del_x_sq - 4.0 * sigma ** 2)\n",
    "    del_t = - (scal + math.sqrt(d)) / del_v_sq\n",
    "    return del_t\n",
    "\n",
    "t = pair_time(coor[0], vel[0], coor[1], vel[1], sigma)"
   ]
  },
  {
   "cell_type": "markdown",
   "metadata": {},
   "source": [
    "### Продвижение за время $t_{coll}$\n",
    "Считается, что в интервале между столкновениями скорости постоянны и на частиц не действуют другие силы."
   ]
  },
  {
   "cell_type": "code",
   "execution_count": 42,
   "metadata": {},
   "outputs": [],
   "source": [
    "def nc(pos_a, vel_a, pos_b, vel_b, t):\n",
    "    nc_a = (pos_a[0] + vel_a[0]*t, pos_a[1] + vel_a[1]*t)\n",
    "    nc_b = (pos_b[0] + vel_b[0]*t, pos_b[1] + vel_b[1]*t)\n",
    "    new_coor = [nc_a, nc_b]\n",
    "    return new_coor\n",
    "new_coor = nc(coor[0], vel[0], coor[1], vel[1], t)   \n",
    "del_r_sq = (new_coor[0][0] - new_coor[1][0])**2 + (new_coor[0][1] - new_coor[1][1])**2"
   ]
  },
  {
   "cell_type": "code",
   "execution_count": 43,
   "metadata": {},
   "outputs": [
    {
     "name": "stdout",
     "output_type": "stream",
     "text": [
      "0.16000000000000003 0.16000000000000003\n"
     ]
    }
   ],
   "source": [
    "print(4.0*sigma**2, del_r_sq) #проверка выполнения условия столкновения "
   ]
  },
  {
   "cell_type": "code",
   "execution_count": null,
   "metadata": {},
   "outputs": [],
   "source": []
  }
 ],
 "metadata": {
  "kernelspec": {
   "display_name": "Python 3",
   "language": "python",
   "name": "python3"
  },
  "language_info": {
   "codemirror_mode": {
    "name": "ipython",
    "version": 3
   },
   "file_extension": ".py",
   "mimetype": "text/x-python",
   "name": "python",
   "nbconvert_exporter": "python",
   "pygments_lexer": "ipython3",
   "version": "3.7.0"
  }
 },
 "nbformat": 4,
 "nbformat_minor": 2
}
